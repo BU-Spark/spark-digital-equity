{
 "cells": [
  {
   "cell_type": "code",
   "execution_count": 12,
   "metadata": {},
   "outputs": [],
   "source": [
    "import pandas as pd\n",
    "import numpy as np"
   ]
  },
  {
   "cell_type": "code",
   "execution_count": 13,
   "metadata": {},
   "outputs": [],
   "source": [
    "data_2016 = pd.read_json('../initial_data/2016.json')\n",
    "data_2017 = pd.read_json('../initial_data/2017.json')\n",
    "data_2018 = pd.read_json('../initial_data/2018.json')"
   ]
  },
  {
   "cell_type": "code",
   "execution_count": 15,
   "metadata": {},
   "outputs": [],
   "source": [
    "# cleaning up the data\n",
    "data_2016['NONBINARY'] = np.nan\n",
    "data_2016 = data_2016.rename(columns={'# STUDENTS_ENROLLED': 'STUDENTS_ENROLLED'})\n",
    "data_2017 = data_2017.drop(columns=['# STUDENTS ENROLLED'])\n",
    "data_2018 = data_2018.drop(columns=['# STUDENTS ENROLLED '])\n",
    "data_2017 = data_2017.applymap(lambda x: np.nan if not x else x)"
   ]
  },
  {
   "cell_type": "code",
   "execution_count": null,
   "metadata": {},
   "outputs": [],
   "source": [
    "data"
   ]
  },
  {
   "cell_type": "code",
   "execution_count": 4,
   "metadata": {},
   "outputs": [
    {
     "name": "stdout",
     "output_type": "stream",
     "text": [
      "2266\n"
     ]
    }
   ],
   "source": [
    "schoolnames_2016 = data_2016[['School Name']]\n",
    "schoolnames_2017 = data_2017[['School Name']]\n",
    "schoolnames_2018 = data_2018[['School Name']]\n",
    "frames = [schoolnames_2016, schoolnames_2017, schoolnames_2018]\n",
    "allschoolnames = pd.concat(frames).drop_duplicates().reset_index(drop=True)"
   ]
  },
  {
   "cell_type": "code",
   "execution_count": 7,
   "metadata": {},
   "outputs": [],
   "source": [
    "merged_2016 = pd.merge(data_2016, allschoolnames, on='School Name', how=\"outer\")\n",
    "merged_2016['SY'] = 2016\n",
    "merged_2017 = pd.merge(data_2017, allschoolnames, on='School Name', how=\"outer\")\n",
    "merged_2017['SY'] = 2017\n",
    "merged_2018 = pd.merge(data_2018, allschoolnames, on='School Name', how=\"outer\")\n",
    "merged_2018['SY'] = 2018\n",
    "\n",
    "# all_merged = pd.concat([merged_2016, merged_2017, merged_2018])\n",
    "# all_merged_json = all_merged.to_json(\"initial_data/final_data.json\", orient='records')"
   ]
  },
  {
   "cell_type": "code",
   "execution_count": null,
   "metadata": {},
   "outputs": [],
   "source": []
  }
 ],
 "metadata": {
  "kernelspec": {
   "display_name": "Python 3",
   "language": "python",
   "name": "python3"
  },
  "language_info": {
   "codemirror_mode": {
    "name": "ipython",
    "version": 3
   },
   "file_extension": ".py",
   "mimetype": "text/x-python",
   "name": "python",
   "nbconvert_exporter": "python",
   "pygments_lexer": "ipython3",
   "version": "3.8.2"
  }
 },
 "nbformat": 4,
 "nbformat_minor": 2
}
